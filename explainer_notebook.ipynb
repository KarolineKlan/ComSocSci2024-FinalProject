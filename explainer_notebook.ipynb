{
 "cells": [
  {
   "cell_type": "markdown",
   "metadata": {},
   "source": [
    "Import relevant packages "
   ]
  },
  {
   "cell_type": "code",
   "execution_count": 239,
   "metadata": {},
   "outputs": [],
   "source": [
    "import pandas as pd\n",
    "import matplotlib.pyplot as plt\n",
    "import seaborn as sns\n",
    "import numpy as np\n",
    "import ast"
   ]
  },
  {
   "cell_type": "markdown",
   "metadata": {},
   "source": [
    "# Table of Contents\n",
    "* [Preprocessing data](#chapter1)\n",
    "    * [Cleaning data](#cleaning_section)\n",
    "    * [Products distribution](#distribution_section)\n",
    "    * [Textual data](#text_section)\n",
    "    * [Merging the data](#merge_section)"
   ]
  },
  {
   "cell_type": "markdown",
   "metadata": {},
   "source": [
    "Use pandas to read the csv files for the webscraped data for both the product_id and price and the description"
   ]
  },
  {
   "cell_type": "code",
   "execution_count": 240,
   "metadata": {},
   "outputs": [],
   "source": [
    "df_products = pd.read_csv('data/df_Salling_Products.csv' , delimiter=\";\")   # Read the csv file containing the products_id\n",
    "df_text = pd.read_csv('data/df_Salling_Products_Descriptions.csv' , delimiter=\";\")  # Read the csv file containing the descriptions\n",
    "df_neighbours = pd.read_csv('data/df_Salling_Products_Neighbours.csv', delimiter=\";\")   # Read the csv file containing the neighbours to a specific product_id"
   ]
  },
  {
   "cell_type": "markdown",
   "metadata": {},
   "source": [
    "## Preprocess the data <a class=\"anchor\" id=\"chapter1\">"
   ]
  },
  {
   "cell_type": "markdown",
   "metadata": {},
   "source": [
    "In this section we filter and clean data such that we can control which parameters and categories we are interested to work with"
   ]
  },
  {
   "cell_type": "markdown",
   "metadata": {},
   "source": [
    "### Cleaning data <a id=\"cleaning_section\">"
   ]
  },
  {
   "cell_type": "code",
   "execution_count": 241,
   "metadata": {},
   "outputs": [
    {
     "data": {
      "text/html": [
       "<div>\n",
       "<style scoped>\n",
       "    .dataframe tbody tr th:only-of-type {\n",
       "        vertical-align: middle;\n",
       "    }\n",
       "\n",
       "    .dataframe tbody tr th {\n",
       "        vertical-align: top;\n",
       "    }\n",
       "\n",
       "    .dataframe thead th {\n",
       "        text-align: right;\n",
       "    }\n",
       "</style>\n",
       "<table border=\"1\" class=\"dataframe\">\n",
       "  <thead>\n",
       "    <tr style=\"text-align: right;\">\n",
       "      <th></th>\n",
       "      <th>product_id</th>\n",
       "      <th>name</th>\n",
       "      <th>price</th>\n",
       "      <th>link</th>\n",
       "      <th>category</th>\n",
       "      <th>price_amount</th>\n",
       "      <th>unit</th>\n",
       "    </tr>\n",
       "  </thead>\n",
       "  <tbody>\n",
       "    <tr>\n",
       "      <th>0</th>\n",
       "      <td>18381</td>\n",
       "      <td>Bananer</td>\n",
       "      <td>2,75/Stk.</td>\n",
       "      <td>/produkt/bananer/18381/</td>\n",
       "      <td>frugt-og-groent</td>\n",
       "      <td>2.75</td>\n",
       "      <td>Stk.</td>\n",
       "    </tr>\n",
       "    <tr>\n",
       "      <th>1</th>\n",
       "      <td>51061</td>\n",
       "      <td>Peberfrugter røde</td>\n",
       "      <td>7,25/Stk.</td>\n",
       "      <td>/produkt/peberfrugter-roede/51061/</td>\n",
       "      <td>frugt-og-groent</td>\n",
       "      <td>7.25</td>\n",
       "      <td>Stk.</td>\n",
       "    </tr>\n",
       "    <tr>\n",
       "      <th>2</th>\n",
       "      <td>61090</td>\n",
       "      <td>Agurk øko</td>\n",
       "      <td>9,00/Stk.</td>\n",
       "      <td>/produkt/salling-oeko-agurk-oeko/61090/</td>\n",
       "      <td>frugt-og-groent</td>\n",
       "      <td>9.00</td>\n",
       "      <td>Stk.</td>\n",
       "    </tr>\n",
       "    <tr>\n",
       "      <th>3</th>\n",
       "      <td>72008</td>\n",
       "      <td>Bananer 4 pak øko</td>\n",
       "      <td>2,20/Stk.</td>\n",
       "      <td>/produkt/bananer-4-pak-oeko/72008/</td>\n",
       "      <td>frugt-og-groent</td>\n",
       "      <td>2.20</td>\n",
       "      <td>Stk.</td>\n",
       "    </tr>\n",
       "    <tr>\n",
       "      <th>4</th>\n",
       "      <td>18323</td>\n",
       "      <td>Gulerødder</td>\n",
       "      <td>10,00/Kg.</td>\n",
       "      <td>/produkt/salling-guleroedder/18323/</td>\n",
       "      <td>frugt-og-groent</td>\n",
       "      <td>10.00</td>\n",
       "      <td>Kg.</td>\n",
       "    </tr>\n",
       "  </tbody>\n",
       "</table>\n",
       "</div>"
      ],
      "text/plain": [
       "   product_id               name      price  \\\n",
       "0       18381            Bananer  2,75/Stk.   \n",
       "1       51061  Peberfrugter røde  7,25/Stk.   \n",
       "2       61090          Agurk øko  9,00/Stk.   \n",
       "3       72008  Bananer 4 pak øko  2,20/Stk.   \n",
       "4       18323         Gulerødder  10,00/Kg.   \n",
       "\n",
       "                                      link         category  price_amount  \\\n",
       "0                  /produkt/bananer/18381/  frugt-og-groent          2.75   \n",
       "1       /produkt/peberfrugter-roede/51061/  frugt-og-groent          7.25   \n",
       "2  /produkt/salling-oeko-agurk-oeko/61090/  frugt-og-groent          9.00   \n",
       "3       /produkt/bananer-4-pak-oeko/72008/  frugt-og-groent          2.20   \n",
       "4      /produkt/salling-guleroedder/18323/  frugt-og-groent         10.00   \n",
       "\n",
       "   unit  \n",
       "0  Stk.  \n",
       "1  Stk.  \n",
       "2  Stk.  \n",
       "3  Stk.  \n",
       "4   Kg.  "
      ]
     },
     "execution_count": 241,
     "metadata": {},
     "output_type": "execute_result"
    }
   ],
   "source": [
    "# Cleaning data here:\n",
    "\n",
    "df_products[['price_amount', 'unit']] = df_products['price'].str.split('/', expand=True)    # Cleaning price attribute\n",
    "df_products['price_amount'] = df_products['price_amount'].str.replace(',', '.').str.extract('(\\d+.\\d+)').astype(float)  # Cleaning price attribute\n",
    "\n",
    "df_products['category'] = df_products['category'].str.replace('/','')     # Cleaning category attribute \n",
    "df_products.drop(columns=['Unnamed: 0'], inplace=True)    # Drop the original price column\n",
    "\n",
    "df_products.head()"
   ]
  },
  {
   "cell_type": "markdown",
   "metadata": {},
   "source": [
    "converting the lists to lists and not strings"
   ]
  },
  {
   "cell_type": "code",
   "execution_count": 242,
   "metadata": {},
   "outputs": [],
   "source": [
    "def convert_string_to_list(string_list):\n",
    "    return ast.literal_eval(string_list) \n",
    "\n",
    "\n",
    "df_neighbours['neighbor_products_id'] = df_neighbours['neighbor_products_id'].apply(convert_string_to_list)"
   ]
  },
  {
   "cell_type": "markdown",
   "metadata": {},
   "source": [
    "Distribute the 21 different inner categories into 3 main categories:"
   ]
  },
  {
   "cell_type": "code",
   "execution_count": 243,
   "metadata": {},
   "outputs": [
    {
     "data": {
      "text/html": [
       "<div>\n",
       "<style scoped>\n",
       "    .dataframe tbody tr th:only-of-type {\n",
       "        vertical-align: middle;\n",
       "    }\n",
       "\n",
       "    .dataframe tbody tr th {\n",
       "        vertical-align: top;\n",
       "    }\n",
       "\n",
       "    .dataframe thead th {\n",
       "        text-align: right;\n",
       "    }\n",
       "</style>\n",
       "<table border=\"1\" class=\"dataframe\">\n",
       "  <thead>\n",
       "    <tr style=\"text-align: right;\">\n",
       "      <th></th>\n",
       "      <th>product_id</th>\n",
       "      <th>name</th>\n",
       "      <th>price</th>\n",
       "      <th>link</th>\n",
       "      <th>category</th>\n",
       "      <th>price_amount</th>\n",
       "      <th>unit</th>\n",
       "      <th>outer_category</th>\n",
       "    </tr>\n",
       "  </thead>\n",
       "  <tbody>\n",
       "    <tr>\n",
       "      <th>0</th>\n",
       "      <td>18381</td>\n",
       "      <td>Bananer</td>\n",
       "      <td>2,75/Stk.</td>\n",
       "      <td>/produkt/bananer/18381/</td>\n",
       "      <td>frugt-og-groent</td>\n",
       "      <td>2.75</td>\n",
       "      <td>Stk.</td>\n",
       "      <td>Foods</td>\n",
       "    </tr>\n",
       "    <tr>\n",
       "      <th>1</th>\n",
       "      <td>51061</td>\n",
       "      <td>Peberfrugter røde</td>\n",
       "      <td>7,25/Stk.</td>\n",
       "      <td>/produkt/peberfrugter-roede/51061/</td>\n",
       "      <td>frugt-og-groent</td>\n",
       "      <td>7.25</td>\n",
       "      <td>Stk.</td>\n",
       "      <td>Foods</td>\n",
       "    </tr>\n",
       "    <tr>\n",
       "      <th>2</th>\n",
       "      <td>61090</td>\n",
       "      <td>Agurk øko</td>\n",
       "      <td>9,00/Stk.</td>\n",
       "      <td>/produkt/salling-oeko-agurk-oeko/61090/</td>\n",
       "      <td>frugt-og-groent</td>\n",
       "      <td>9.00</td>\n",
       "      <td>Stk.</td>\n",
       "      <td>Foods</td>\n",
       "    </tr>\n",
       "    <tr>\n",
       "      <th>3</th>\n",
       "      <td>72008</td>\n",
       "      <td>Bananer 4 pak øko</td>\n",
       "      <td>2,20/Stk.</td>\n",
       "      <td>/produkt/bananer-4-pak-oeko/72008/</td>\n",
       "      <td>frugt-og-groent</td>\n",
       "      <td>2.20</td>\n",
       "      <td>Stk.</td>\n",
       "      <td>Foods</td>\n",
       "    </tr>\n",
       "    <tr>\n",
       "      <th>4</th>\n",
       "      <td>18323</td>\n",
       "      <td>Gulerødder</td>\n",
       "      <td>10,00/Kg.</td>\n",
       "      <td>/produkt/salling-guleroedder/18323/</td>\n",
       "      <td>frugt-og-groent</td>\n",
       "      <td>10.00</td>\n",
       "      <td>Kg.</td>\n",
       "      <td>Foods</td>\n",
       "    </tr>\n",
       "  </tbody>\n",
       "</table>\n",
       "</div>"
      ],
      "text/plain": [
       "   product_id               name      price  \\\n",
       "0       18381            Bananer  2,75/Stk.   \n",
       "1       51061  Peberfrugter røde  7,25/Stk.   \n",
       "2       61090          Agurk øko  9,00/Stk.   \n",
       "3       72008  Bananer 4 pak øko  2,20/Stk.   \n",
       "4       18323         Gulerødder  10,00/Kg.   \n",
       "\n",
       "                                      link         category  price_amount  \\\n",
       "0                  /produkt/bananer/18381/  frugt-og-groent          2.75   \n",
       "1       /produkt/peberfrugter-roede/51061/  frugt-og-groent          7.25   \n",
       "2  /produkt/salling-oeko-agurk-oeko/61090/  frugt-og-groent          9.00   \n",
       "3       /produkt/bananer-4-pak-oeko/72008/  frugt-og-groent          2.20   \n",
       "4      /produkt/salling-guleroedder/18323/  frugt-og-groent         10.00   \n",
       "\n",
       "   unit outer_category  \n",
       "0  Stk.          Foods  \n",
       "1  Stk.          Foods  \n",
       "2  Stk.          Foods  \n",
       "3  Stk.          Foods  \n",
       "4   Kg.          Foods  "
      ]
     },
     "execution_count": 243,
     "metadata": {},
     "output_type": "execute_result"
    }
   ],
   "source": [
    "foods = ['frugt-og-groent', 'koed-og-fisk', 'mejeri-og-koel', 'drikkevarer', 'broed-og-kager','kolonial', 'slik-og-snacks', 'frost']\n",
    "house = ['husholdning', 'personlig-pleje', 'baby-og-boern', 'bolig-og-koekken', 'fritid-og-sport', 'toej-og-sko', 'have', 'leg', 'byggemarked']\n",
    "other = ['dyremad','elektronik','biludstyr', 'kiosk']\n",
    "\n",
    "df_products['outer_category'] = df_products['category'].map(lambda x: 'Foods' if x in foods else ('House' if x in house else 'Other'))\n",
    "\n",
    "df_products.head()"
   ]
  },
  {
   "cell_type": "markdown",
   "metadata": {},
   "source": [
    "### Distribution of the categories of the webscraped products from the [BilkaToGO](https://www.bilkatogo.dk/) website <a id=\"distribution_section\"></a>"
   ]
  },
  {
   "cell_type": "code",
   "execution_count": 244,
   "metadata": {},
   "outputs": [
    {
     "data": {
      "image/png": "[encoded data removed]",
      "text/plain": [
       "<Figure size 1000x600 with 1 Axes>"
      ]
     },
     "metadata": {},
     "output_type": "display_data"
    },
    {
     "data": {
      "text/plain": [
       "outer_category\n",
       "House    19163\n",
       "Foods    10269\n",
       "Other     2853\n",
       "Name: count, dtype: int64"
      ]
     },
     "execution_count": 244,
     "metadata": {},
     "output_type": "execute_result"
    }
   ],
   "source": [
    "plt.figure(figsize=(10, 6))\n",
    "sns.countplot(y='category', data=df_products, hue='outer_category', order=df_products['category'].value_counts().index)\n",
    "plt.xlabel('Count')\n",
    "plt.ylabel('Inner Categories')\n",
    "plt.title('Count of Inner Categories with Outer Category Color')\n",
    "plt.legend(title='Outer Category')\n",
    "plt.tight_layout()\n",
    "plt.show()\n",
    "\n",
    "df_products['outer_category'].value_counts()"
   ]
  },
  {
   "cell_type": "markdown",
   "metadata": {},
   "source": [
    "The plot shows the distribution of products across the different categories. The categories are divided into 3 main categories: 'Food', 'House' and 'Other'. The Food category contains 10.269 products, the House category contains 19.163 products and the Other category contains 2.853 products.\n",
    "\n",
    "In this project we will be focusing on the Food category."
   ]
  },
  {
   "cell_type": "markdown",
   "metadata": {},
   "source": [
    "### Textual data <a id=\"text_section\">"
   ]
  },
  {
   "cell_type": "code",
   "execution_count": 245,
   "metadata": {},
   "outputs": [
    {
     "name": "stdout",
     "output_type": "stream",
     "text": [
      "There are 0 null values in the dataset\n"
     ]
    }
   ],
   "source": [
    "df_text = df_text.rename(columns = {'p_id':'product_id'})\n",
    "no_description = df_text[df_text['descriptions'].isnull()]['descriptions'].value_counts()   # Check for null values\n",
    "\n",
    "print(f\"There are {no_description.sum()} null values in the dataset\")"
   ]
  },
  {
   "cell_type": "markdown",
   "metadata": {},
   "source": [
    "Removing extra description that were collected in the webscraping that is not about the product itself"
   ]
  },
  {
   "cell_type": "code",
   "execution_count": 246,
   "metadata": {},
   "outputs": [],
   "source": [
    "df_text['descriptions'] = df_text['descriptions'].str.lower().str.split('om salling').str[0].str.strip()\n",
    "df_text['descriptions'] = df_text['descriptions'].str.lower().str.split('om slagteren').str[0].str.strip()\n",
    "df_text['description_length'] = df_text['descriptions'].str.split().str.len()"
   ]
  },
  {
   "cell_type": "markdown",
   "metadata": {},
   "source": [
    "### Merge the datasets <a id=\"merge_section\">"
   ]
  },
  {
   "cell_type": "markdown",
   "metadata": {},
   "source": [
    "Here we merge the datasets. The neighbours dataframe only contains products from the 'Foods' category so we see a change in number of rows when merging"
   ]
  },
  {
   "cell_type": "code",
   "execution_count": 247,
   "metadata": {},
   "outputs": [],
   "source": [
    "df_clean = pd.merge(df_products, df_neighbours, on='product_id', how='inner')\n",
    "df_clean = pd.merge(df_clean, df_text, on='product_id', how='inner')\n",
    "\n",
    "df_clean = df_clean[df_clean['neighbor_products_id'].apply(lambda x: len(x) > 0)]\n",
    "df_clean = df_clean[df_clean['descriptions'].apply(lambda x: x != \"No description available\")]"
   ]
  },
  {
   "cell_type": "code",
   "execution_count": 248,
   "metadata": {},
   "outputs": [
    {
     "data": {
      "text/plain": [
       "count    10400.000000\n",
       "mean        93.775962\n",
       "std         37.268425\n",
       "min          1.000000\n",
       "25%         71.000000\n",
       "50%         98.000000\n",
       "75%        115.000000\n",
       "max        715.000000\n",
       "Name: description_length, dtype: float64"
      ]
     },
     "execution_count": 248,
     "metadata": {},
     "output_type": "execute_result"
    }
   ],
   "source": [
    "df_clean['description_length'].describe()"
   ]
  },
  {
   "cell_type": "markdown",
   "metadata": {},
   "source": [
    "We see that the average word length of the descriptions are ~94 words while the minimum length is just one word. We introduce a threshold for which we want to cut of these products, and they would not be informative to work with in a textual analysis. We therefore look at the distribution of the word lenghts of the descriptions to find a fitting threshold for the cut-off."
   ]
  },
  {
   "cell_type": "code",
   "execution_count": 249,
   "metadata": {},
   "outputs": [
    {
     "name": "stderr",
     "output_type": "stream",
     "text": [
      "c:\\Users\\17kkj\\miniconda3\\envs\\social\\Lib\\site-packages\\seaborn\\_oldcore.py:1119: FutureWarning: use_inf_as_na option is deprecated and will be removed in a future version. Convert inf values to NaN before operating instead.\n",
      "  with pd.option_context('mode.use_inf_as_na', True):\n"
     ]
    },
    {
     "data": {
      "image/png": "[encoded data removed]",
      "text/plain": [
       "<Figure size 1000x600 with 1 Axes>"
      ]
     },
     "metadata": {},
     "output_type": "display_data"
    }
   ],
   "source": [
    "#plot the length of the descriptions for the products\n",
    "plt.figure(figsize=(10,6))\n",
    "sns.kdeplot(df_clean['description_length'])\n",
    "plt.axvline(30, c='r')\n",
    "plt.title('Length of descriptions')\n",
    "plt.show()"
   ]
  },
  {
   "cell_type": "markdown",
   "metadata": {},
   "source": [
    "### Filtering for the description word length"
   ]
  },
  {
   "cell_type": "markdown",
   "metadata": {},
   "source": [
    "Get rid of the products with a description word length that are below a certain threshold of 30 words."
   ]
  },
  {
   "cell_type": "code",
   "execution_count": 250,
   "metadata": {},
   "outputs": [
    {
     "data": {
      "text/html": [
       "<div>\n",
       "<style scoped>\n",
       "    .dataframe tbody tr th:only-of-type {\n",
       "        vertical-align: middle;\n",
       "    }\n",
       "\n",
       "    .dataframe tbody tr th {\n",
       "        vertical-align: top;\n",
       "    }\n",
       "\n",
       "    .dataframe thead th {\n",
       "        text-align: right;\n",
       "    }\n",
       "</style>\n",
       "<table border=\"1\" class=\"dataframe\">\n",
       "  <thead>\n",
       "    <tr style=\"text-align: right;\">\n",
       "      <th></th>\n",
       "      <th>product_id</th>\n",
       "      <th>price_amount</th>\n",
       "      <th>description_length</th>\n",
       "    </tr>\n",
       "  </thead>\n",
       "  <tbody>\n",
       "    <tr>\n",
       "      <th>count</th>\n",
       "      <td>9918.000000</td>\n",
       "      <td>9918.000000</td>\n",
       "      <td>9918.000000</td>\n",
       "    </tr>\n",
       "    <tr>\n",
       "      <th>mean</th>\n",
       "      <td>77176.986288</td>\n",
       "      <td>140.857947</td>\n",
       "      <td>96.425187</td>\n",
       "    </tr>\n",
       "    <tr>\n",
       "      <th>std</th>\n",
       "      <td>34707.467602</td>\n",
       "      <td>140.231644</td>\n",
       "      <td>30.667614</td>\n",
       "    </tr>\n",
       "    <tr>\n",
       "      <th>min</th>\n",
       "      <td>14532.000000</td>\n",
       "      <td>0.020000</td>\n",
       "      <td>30.000000</td>\n",
       "    </tr>\n",
       "    <tr>\n",
       "      <th>25%</th>\n",
       "      <td>51303.000000</td>\n",
       "      <td>50.000000</td>\n",
       "      <td>76.000000</td>\n",
       "    </tr>\n",
       "    <tr>\n",
       "      <th>50%</th>\n",
       "      <td>81812.500000</td>\n",
       "      <td>102.565000</td>\n",
       "      <td>99.000000</td>\n",
       "    </tr>\n",
       "    <tr>\n",
       "      <th>75%</th>\n",
       "      <td>108703.750000</td>\n",
       "      <td>178.457500</td>\n",
       "      <td>116.000000</td>\n",
       "    </tr>\n",
       "    <tr>\n",
       "      <th>max</th>\n",
       "      <td>133516.000000</td>\n",
       "      <td>998.570000</td>\n",
       "      <td>325.000000</td>\n",
       "    </tr>\n",
       "  </tbody>\n",
       "</table>\n",
       "</div>"
      ],
      "text/plain": [
       "          product_id  price_amount  description_length\n",
       "count    9918.000000   9918.000000         9918.000000\n",
       "mean    77176.986288    140.857947           96.425187\n",
       "std     34707.467602    140.231644           30.667614\n",
       "min     14532.000000      0.020000           30.000000\n",
       "25%     51303.000000     50.000000           76.000000\n",
       "50%     81812.500000    102.565000           99.000000\n",
       "75%    108703.750000    178.457500          116.000000\n",
       "max    133516.000000    998.570000          325.000000"
      ]
     },
     "execution_count": 250,
     "metadata": {},
     "output_type": "execute_result"
    }
   ],
   "source": [
    "word_length_threshold = 30\n",
    "\n",
    "df_clean = df_clean.loc[df_clean['description_length'] >= word_length_threshold]    # Get rid of the descriptions that are less than 30 words\n",
    "df_clean = df_clean.loc[df_clean['category'] != 'kiosk']        # Get rid of the kiosk category as we only work with foods\n",
    "df_clean.describe()"
   ]
  },
  {
   "cell_type": "markdown",
   "metadata": {},
   "source": [
    "The data has been preprocessed and we extract the data that we work with:"
   ]
  },
  {
   "cell_type": "code",
   "execution_count": 251,
   "metadata": {},
   "outputs": [],
   "source": [
    "df_clean.to_csv('data/df_clean_data.csv', index=False, sep=\";\")"
   ]
  }
 ],
 "metadata": {
  "kernelspec": {
   "display_name": "social",
   "language": "python",
   "name": "python3"
  },
  "language_info": {
   "codemirror_mode": {
    "name": "ipython",
    "version": 3
   },
   "file_extension": ".py",
   "mimetype": "text/x-python",
   "name": "python",
   "nbconvert_exporter": "python",
   "pygments_lexer": "ipython3",
   "version": "3.11.7"
  }
 },
 "nbformat": 4,
 "nbformat_minor": 2
}

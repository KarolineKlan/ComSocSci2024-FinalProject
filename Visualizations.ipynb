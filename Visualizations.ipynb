{
 "cells": [
  {
   "cell_type": "code",
   "execution_count": 2,
   "metadata": {},
   "outputs": [
    {
     "name": "stdout",
     "output_type": "stream",
     "text": [
      "Intel MKL WARNING: Support of Intel(R) Streaming SIMD Extensions 4.2 (Intel(R) SSE4.2) enabled only processors has been deprecated. Intel oneAPI Math Kernel Library 2025.0 will require Intel(R) Advanced Vector Extensions (Intel(R) AVX) instructions.\n",
      "Intel MKL WARNING: Support of Intel(R) Streaming SIMD Extensions 4.2 (Intel(R) SSE4.2) enabled only processors has been deprecated. Intel oneAPI Math Kernel Library 2025.0 will require Intel(R) Advanced Vector Extensions (Intel(R) AVX) instructions.\n"
     ]
    }
   ],
   "source": [
    "import pandas as pd\n",
    "import numpy as np\n",
    "import matplotlib.pyplot as plt\n",
    "import seaborn as sns\n",
    "import altair as alt"
   ]
  },
  {
   "cell_type": "markdown",
   "metadata": {},
   "source": [
    "# Preprocess the data"
   ]
  },
  {
   "cell_type": "code",
   "execution_count": 3,
   "metadata": {},
   "outputs": [
    {
     "data": {
      "text/html": [
       "<div>\n",
       "<style scoped>\n",
       "    .dataframe tbody tr th:only-of-type {\n",
       "        vertical-align: middle;\n",
       "    }\n",
       "\n",
       "    .dataframe tbody tr th {\n",
       "        vertical-align: top;\n",
       "    }\n",
       "\n",
       "    .dataframe thead th {\n",
       "        text-align: right;\n",
       "    }\n",
       "</style>\n",
       "<table border=\"1\" class=\"dataframe\">\n",
       "  <thead>\n",
       "    <tr style=\"text-align: right;\">\n",
       "      <th></th>\n",
       "      <th>Unnamed: 0</th>\n",
       "      <th>product_id</th>\n",
       "      <th>name</th>\n",
       "      <th>price</th>\n",
       "      <th>link</th>\n",
       "      <th>category</th>\n",
       "    </tr>\n",
       "  </thead>\n",
       "  <tbody>\n",
       "    <tr>\n",
       "      <th>0</th>\n",
       "      <td>0</td>\n",
       "      <td>18381</td>\n",
       "      <td>Bananer</td>\n",
       "      <td>2,75/Stk.</td>\n",
       "      <td>/produkt/bananer/18381/</td>\n",
       "      <td>frugt-og-groent/</td>\n",
       "    </tr>\n",
       "    <tr>\n",
       "      <th>1</th>\n",
       "      <td>1</td>\n",
       "      <td>51061</td>\n",
       "      <td>Peberfrugter røde</td>\n",
       "      <td>7,25/Stk.</td>\n",
       "      <td>/produkt/peberfrugter-roede/51061/</td>\n",
       "      <td>frugt-og-groent/</td>\n",
       "    </tr>\n",
       "    <tr>\n",
       "      <th>2</th>\n",
       "      <td>2</td>\n",
       "      <td>61090</td>\n",
       "      <td>Agurk øko</td>\n",
       "      <td>9,00/Stk.</td>\n",
       "      <td>/produkt/salling-oeko-agurk-oeko/61090/</td>\n",
       "      <td>frugt-og-groent/</td>\n",
       "    </tr>\n",
       "    <tr>\n",
       "      <th>3</th>\n",
       "      <td>3</td>\n",
       "      <td>72008</td>\n",
       "      <td>Bananer 4 pak øko</td>\n",
       "      <td>2,20/Stk.</td>\n",
       "      <td>/produkt/bananer-4-pak-oeko/72008/</td>\n",
       "      <td>frugt-og-groent/</td>\n",
       "    </tr>\n",
       "    <tr>\n",
       "      <th>4</th>\n",
       "      <td>4</td>\n",
       "      <td>18323</td>\n",
       "      <td>Gulerødder</td>\n",
       "      <td>10,00/Kg.</td>\n",
       "      <td>/produkt/salling-guleroedder/18323/</td>\n",
       "      <td>frugt-og-groent/</td>\n",
       "    </tr>\n",
       "  </tbody>\n",
       "</table>\n",
       "</div>"
      ],
      "text/plain": [
       "   Unnamed: 0  product_id               name      price  \\\n",
       "0           0       18381            Bananer  2,75/Stk.   \n",
       "1           1       51061  Peberfrugter røde  7,25/Stk.   \n",
       "2           2       61090          Agurk øko  9,00/Stk.   \n",
       "3           3       72008  Bananer 4 pak øko  2,20/Stk.   \n",
       "4           4       18323         Gulerødder  10,00/Kg.   \n",
       "\n",
       "                                      link          category  \n",
       "0                  /produkt/bananer/18381/  frugt-og-groent/  \n",
       "1       /produkt/peberfrugter-roede/51061/  frugt-og-groent/  \n",
       "2  /produkt/salling-oeko-agurk-oeko/61090/  frugt-og-groent/  \n",
       "3       /produkt/bananer-4-pak-oeko/72008/  frugt-og-groent/  \n",
       "4      /produkt/salling-guleroedder/18323/  frugt-og-groent/  "
      ]
     },
     "execution_count": 3,
     "metadata": {},
     "output_type": "execute_result"
    }
   ],
   "source": [
    "# Load the data but skip the first row\n",
    "\n",
    "df = pd.read_csv('data/df_Salling_Products.csv' , delimiter=\";\")\n",
    "df.head()"
   ]
  },
  {
   "cell_type": "code",
   "execution_count": 4,
   "metadata": {},
   "outputs": [
    {
     "data": {
      "text/html": [
       "<div>\n",
       "<style scoped>\n",
       "    .dataframe tbody tr th:only-of-type {\n",
       "        vertical-align: middle;\n",
       "    }\n",
       "\n",
       "    .dataframe tbody tr th {\n",
       "        vertical-align: top;\n",
       "    }\n",
       "\n",
       "    .dataframe thead th {\n",
       "        text-align: right;\n",
       "    }\n",
       "</style>\n",
       "<table border=\"1\" class=\"dataframe\">\n",
       "  <thead>\n",
       "    <tr style=\"text-align: right;\">\n",
       "      <th></th>\n",
       "      <th>Unnamed: 0</th>\n",
       "      <th>product_id</th>\n",
       "      <th>name</th>\n",
       "      <th>price</th>\n",
       "      <th>link</th>\n",
       "      <th>category</th>\n",
       "      <th>price_amount</th>\n",
       "      <th>unit</th>\n",
       "    </tr>\n",
       "  </thead>\n",
       "  <tbody>\n",
       "    <tr>\n",
       "      <th>0</th>\n",
       "      <td>0</td>\n",
       "      <td>18381</td>\n",
       "      <td>Bananer</td>\n",
       "      <td>2,75/Stk.</td>\n",
       "      <td>/produkt/bananer/18381/</td>\n",
       "      <td>frugt-og-groent/</td>\n",
       "      <td>2.75</td>\n",
       "      <td>Stk.</td>\n",
       "    </tr>\n",
       "    <tr>\n",
       "      <th>1</th>\n",
       "      <td>1</td>\n",
       "      <td>51061</td>\n",
       "      <td>Peberfrugter røde</td>\n",
       "      <td>7,25/Stk.</td>\n",
       "      <td>/produkt/peberfrugter-roede/51061/</td>\n",
       "      <td>frugt-og-groent/</td>\n",
       "      <td>7.25</td>\n",
       "      <td>Stk.</td>\n",
       "    </tr>\n",
       "    <tr>\n",
       "      <th>2</th>\n",
       "      <td>2</td>\n",
       "      <td>61090</td>\n",
       "      <td>Agurk øko</td>\n",
       "      <td>9,00/Stk.</td>\n",
       "      <td>/produkt/salling-oeko-agurk-oeko/61090/</td>\n",
       "      <td>frugt-og-groent/</td>\n",
       "      <td>9.00</td>\n",
       "      <td>Stk.</td>\n",
       "    </tr>\n",
       "    <tr>\n",
       "      <th>3</th>\n",
       "      <td>3</td>\n",
       "      <td>72008</td>\n",
       "      <td>Bananer 4 pak øko</td>\n",
       "      <td>2,20/Stk.</td>\n",
       "      <td>/produkt/bananer-4-pak-oeko/72008/</td>\n",
       "      <td>frugt-og-groent/</td>\n",
       "      <td>2.20</td>\n",
       "      <td>Stk.</td>\n",
       "    </tr>\n",
       "    <tr>\n",
       "      <th>4</th>\n",
       "      <td>4</td>\n",
       "      <td>18323</td>\n",
       "      <td>Gulerødder</td>\n",
       "      <td>10,00/Kg.</td>\n",
       "      <td>/produkt/salling-guleroedder/18323/</td>\n",
       "      <td>frugt-og-groent/</td>\n",
       "      <td>10.00</td>\n",
       "      <td>Kg.</td>\n",
       "    </tr>\n",
       "  </tbody>\n",
       "</table>\n",
       "</div>"
      ],
      "text/plain": [
       "   Unnamed: 0  product_id               name      price  \\\n",
       "0           0       18381            Bananer  2,75/Stk.   \n",
       "1           1       51061  Peberfrugter røde  7,25/Stk.   \n",
       "2           2       61090          Agurk øko  9,00/Stk.   \n",
       "3           3       72008  Bananer 4 pak øko  2,20/Stk.   \n",
       "4           4       18323         Gulerødder  10,00/Kg.   \n",
       "\n",
       "                                      link          category  price_amount  \\\n",
       "0                  /produkt/bananer/18381/  frugt-og-groent/          2.75   \n",
       "1       /produkt/peberfrugter-roede/51061/  frugt-og-groent/          7.25   \n",
       "2  /produkt/salling-oeko-agurk-oeko/61090/  frugt-og-groent/          9.00   \n",
       "3       /produkt/bananer-4-pak-oeko/72008/  frugt-og-groent/          2.20   \n",
       "4      /produkt/salling-guleroedder/18323/  frugt-og-groent/         10.00   \n",
       "\n",
       "   unit  \n",
       "0  Stk.  \n",
       "1  Stk.  \n",
       "2  Stk.  \n",
       "3  Stk.  \n",
       "4   Kg.  "
      ]
     },
     "execution_count": 4,
     "metadata": {},
     "output_type": "execute_result"
    }
   ],
   "source": [
    "# Splitting price into amount and unit\n",
    "df[['price_amount', 'unit']] = df['price'].str.split('/', expand=True)\n",
    "\n",
    "# Clean up the 'amount' column, removing any commas and converting to float\n",
    "df['price_amount'] = df['price_amount'].str.replace(',', '.').str.extract('(\\d+.\\d+)').astype(float)\n",
    "df.head()"
   ]
  },
  {
   "cell_type": "code",
   "execution_count": 5,
   "metadata": {},
   "outputs": [
    {
     "data": {
      "text/html": [
       "<div>\n",
       "<style scoped>\n",
       "    .dataframe tbody tr th:only-of-type {\n",
       "        vertical-align: middle;\n",
       "    }\n",
       "\n",
       "    .dataframe tbody tr th {\n",
       "        vertical-align: top;\n",
       "    }\n",
       "\n",
       "    .dataframe thead th {\n",
       "        text-align: right;\n",
       "    }\n",
       "</style>\n",
       "<table border=\"1\" class=\"dataframe\">\n",
       "  <thead>\n",
       "    <tr style=\"text-align: right;\">\n",
       "      <th></th>\n",
       "      <th>Unnamed: 0</th>\n",
       "      <th>product_id</th>\n",
       "      <th>price_amount</th>\n",
       "    </tr>\n",
       "  </thead>\n",
       "  <tbody>\n",
       "    <tr>\n",
       "      <th>count</th>\n",
       "      <td>32285.000000</td>\n",
       "      <td>32285.000000</td>\n",
       "      <td>32275.000000</td>\n",
       "    </tr>\n",
       "    <tr>\n",
       "      <th>mean</th>\n",
       "      <td>16142.000000</td>\n",
       "      <td>95081.418182</td>\n",
       "      <td>134.526956</td>\n",
       "    </tr>\n",
       "    <tr>\n",
       "      <th>std</th>\n",
       "      <td>9320.021057</td>\n",
       "      <td>32105.756833</td>\n",
       "      <td>155.647136</td>\n",
       "    </tr>\n",
       "    <tr>\n",
       "      <th>min</th>\n",
       "      <td>0.000000</td>\n",
       "      <td>14287.000000</td>\n",
       "      <td>0.020000</td>\n",
       "    </tr>\n",
       "    <tr>\n",
       "      <th>25%</th>\n",
       "      <td>8071.000000</td>\n",
       "      <td>78799.000000</td>\n",
       "      <td>31.950000</td>\n",
       "    </tr>\n",
       "    <tr>\n",
       "      <th>50%</th>\n",
       "      <td>16142.000000</td>\n",
       "      <td>102528.000000</td>\n",
       "      <td>85.000000</td>\n",
       "    </tr>\n",
       "    <tr>\n",
       "      <th>75%</th>\n",
       "      <td>24213.000000</td>\n",
       "      <td>121124.000000</td>\n",
       "      <td>179.000000</td>\n",
       "    </tr>\n",
       "    <tr>\n",
       "      <th>max</th>\n",
       "      <td>32284.000000</td>\n",
       "      <td>133518.000000</td>\n",
       "      <td>999.500000</td>\n",
       "    </tr>\n",
       "  </tbody>\n",
       "</table>\n",
       "</div>"
      ],
      "text/plain": [
       "         Unnamed: 0     product_id  price_amount\n",
       "count  32285.000000   32285.000000  32275.000000\n",
       "mean   16142.000000   95081.418182    134.526956\n",
       "std     9320.021057   32105.756833    155.647136\n",
       "min        0.000000   14287.000000      0.020000\n",
       "25%     8071.000000   78799.000000     31.950000\n",
       "50%    16142.000000  102528.000000     85.000000\n",
       "75%    24213.000000  121124.000000    179.000000\n",
       "max    32284.000000  133518.000000    999.500000"
      ]
     },
     "execution_count": 5,
     "metadata": {},
     "output_type": "execute_result"
    }
   ],
   "source": [
    "df.describe()"
   ]
  },
  {
   "cell_type": "code",
   "execution_count": 6,
   "metadata": {},
   "outputs": [
    {
     "data": {
      "text/html": [
       "<div>\n",
       "<style scoped>\n",
       "    .dataframe tbody tr th:only-of-type {\n",
       "        vertical-align: middle;\n",
       "    }\n",
       "\n",
       "    .dataframe tbody tr th {\n",
       "        vertical-align: top;\n",
       "    }\n",
       "\n",
       "    .dataframe thead th {\n",
       "        text-align: right;\n",
       "    }\n",
       "</style>\n",
       "<table border=\"1\" class=\"dataframe\">\n",
       "  <thead>\n",
       "    <tr style=\"text-align: right;\">\n",
       "      <th></th>\n",
       "      <th>Unnamed: 0</th>\n",
       "      <th>product_id</th>\n",
       "      <th>name</th>\n",
       "      <th>price</th>\n",
       "      <th>link</th>\n",
       "      <th>category</th>\n",
       "      <th>price_amount</th>\n",
       "      <th>unit</th>\n",
       "    </tr>\n",
       "  </thead>\n",
       "  <tbody>\n",
       "    <tr>\n",
       "      <th>0</th>\n",
       "      <td>0</td>\n",
       "      <td>18381</td>\n",
       "      <td>Bananer</td>\n",
       "      <td>2,75/Stk.</td>\n",
       "      <td>/produkt/bananer/18381/</td>\n",
       "      <td>frugt-og-groent</td>\n",
       "      <td>2.75</td>\n",
       "      <td>Stk.</td>\n",
       "    </tr>\n",
       "    <tr>\n",
       "      <th>1</th>\n",
       "      <td>1</td>\n",
       "      <td>51061</td>\n",
       "      <td>Peberfrugter røde</td>\n",
       "      <td>7,25/Stk.</td>\n",
       "      <td>/produkt/peberfrugter-roede/51061/</td>\n",
       "      <td>frugt-og-groent</td>\n",
       "      <td>7.25</td>\n",
       "      <td>Stk.</td>\n",
       "    </tr>\n",
       "    <tr>\n",
       "      <th>2</th>\n",
       "      <td>2</td>\n",
       "      <td>61090</td>\n",
       "      <td>Agurk øko</td>\n",
       "      <td>9,00/Stk.</td>\n",
       "      <td>/produkt/salling-oeko-agurk-oeko/61090/</td>\n",
       "      <td>frugt-og-groent</td>\n",
       "      <td>9.00</td>\n",
       "      <td>Stk.</td>\n",
       "    </tr>\n",
       "    <tr>\n",
       "      <th>3</th>\n",
       "      <td>3</td>\n",
       "      <td>72008</td>\n",
       "      <td>Bananer 4 pak øko</td>\n",
       "      <td>2,20/Stk.</td>\n",
       "      <td>/produkt/bananer-4-pak-oeko/72008/</td>\n",
       "      <td>frugt-og-groent</td>\n",
       "      <td>2.20</td>\n",
       "      <td>Stk.</td>\n",
       "    </tr>\n",
       "    <tr>\n",
       "      <th>4</th>\n",
       "      <td>4</td>\n",
       "      <td>18323</td>\n",
       "      <td>Gulerødder</td>\n",
       "      <td>10,00/Kg.</td>\n",
       "      <td>/produkt/salling-guleroedder/18323/</td>\n",
       "      <td>frugt-og-groent</td>\n",
       "      <td>10.00</td>\n",
       "      <td>Kg.</td>\n",
       "    </tr>\n",
       "  </tbody>\n",
       "</table>\n",
       "</div>"
      ],
      "text/plain": [
       "   Unnamed: 0  product_id               name      price  \\\n",
       "0           0       18381            Bananer  2,75/Stk.   \n",
       "1           1       51061  Peberfrugter røde  7,25/Stk.   \n",
       "2           2       61090          Agurk øko  9,00/Stk.   \n",
       "3           3       72008  Bananer 4 pak øko  2,20/Stk.   \n",
       "4           4       18323         Gulerødder  10,00/Kg.   \n",
       "\n",
       "                                      link         category  price_amount  \\\n",
       "0                  /produkt/bananer/18381/  frugt-og-groent          2.75   \n",
       "1       /produkt/peberfrugter-roede/51061/  frugt-og-groent          7.25   \n",
       "2  /produkt/salling-oeko-agurk-oeko/61090/  frugt-og-groent          9.00   \n",
       "3       /produkt/bananer-4-pak-oeko/72008/  frugt-og-groent          2.20   \n",
       "4      /produkt/salling-guleroedder/18323/  frugt-og-groent         10.00   \n",
       "\n",
       "   unit  \n",
       "0  Stk.  \n",
       "1  Stk.  \n",
       "2  Stk.  \n",
       "3  Stk.  \n",
       "4   Kg.  "
      ]
     },
     "execution_count": 6,
     "metadata": {},
     "output_type": "execute_result"
    }
   ],
   "source": [
    "#remove the / at the end of cells in category column\n",
    "df['category'] = df['category'].str.replace('/','')\n",
    "df.head()"
   ]
  },
  {
   "cell_type": "code",
   "execution_count": 8,
   "metadata": {},
   "outputs": [
    {
     "data": {
      "text/plain": [
       "category\n",
       "personlig-pleje     5741\n",
       "kolonial            3732\n",
       "bolig-og-koekken    3500\n",
       "fritid-og-sport     2793\n",
       "toej-og-sko         2792\n",
       "leg                 1991\n",
       "elektronik          1796\n",
       "drikkevarer         1700\n",
       "mejeri-og-koel      1582\n",
       "slik-og-snacks      1573\n",
       "husholdning          798\n",
       "have                 614\n",
       "broed-og-kager       579\n",
       "frost                571\n",
       "dyremad              539\n",
       "byggemarked          513\n",
       "baby-og-boern        421\n",
       "kiosk                375\n",
       "frugt-og-groent      299\n",
       "koed-og-fisk         233\n",
       "biludstyr            143\n",
       "Name: count, dtype: int64"
      ]
     },
     "execution_count": 8,
     "metadata": {},
     "output_type": "execute_result"
    }
   ],
   "source": [
    "#count amount of products in each personlig-pleje category\n",
    "df['category'].value_counts()"
   ]
  },
  {
   "cell_type": "code",
   "execution_count": 11,
   "metadata": {},
   "outputs": [
    {
     "data": {
      "image/png": "[encoded data removed]",
      "text/plain": [
       "<Figure size 1000x600 with 1 Axes>"
      ]
     },
     "metadata": {},
     "output_type": "display_data"
    }
   ],
   "source": [
    "#plot the amount of products in each category on a bar chart y-axis is the product count and x-axis is the category and sort the values\n",
    "plt.figure(figsize=(10,6))\n",
    "sns.countplot(data=df, y='category', order = df['category'].value_counts().index)\n",
    "plt.title('Amount of products in each category')\n",
    "plt.show()\n",
    "\n",
    "\n"
   ]
  },
  {
   "cell_type": "code",
   "execution_count": 30,
   "metadata": {},
   "outputs": [
    {
     "data": {
      "text/plain": [
       "Unnamed: 0         0\n",
       "product_id         0\n",
       "name               0\n",
       "price              0\n",
       "link               0\n",
       "category           0\n",
       "price_amount      10\n",
       "unit              16\n",
       "category_group     0\n",
       "dtype: int64"
      ]
     },
     "execution_count": 30,
     "metadata": {},
     "output_type": "execute_result"
    }
   ],
   "source": [
    "#count all nan values in the dataframe\n",
    "df.isnull().sum()"
   ]
  },
  {
   "cell_type": "code",
   "execution_count": 31,
   "metadata": {},
   "outputs": [
    {
     "data": {
      "text/plain": [
       "(32285, 9)"
      ]
     },
     "execution_count": 31,
     "metadata": {},
     "output_type": "execute_result"
    }
   ],
   "source": [
    "df.shape    "
   ]
  },
  {
   "cell_type": "code",
   "execution_count": 33,
   "metadata": {},
   "outputs": [
    {
     "data": {
      "text/plain": [
       "array(['frugt-og-groent', 'koed-og-fisk', 'mejeri-og-koel', 'drikkevarer',\n",
       "       'broed-og-kager', 'kolonial', 'slik-og-snacks', 'frost', 'kiosk',\n",
       "       'dyremad', 'husholdning', 'personlig-pleje', 'baby-og-boern',\n",
       "       'bolig-og-koekken', 'fritid-og-sport', 'toej-og-sko', 'elektronik',\n",
       "       'have', 'leg', 'biludstyr', 'byggemarked'], dtype=object)"
      ]
     },
     "execution_count": 33,
     "metadata": {},
     "output_type": "execute_result"
    }
   ],
   "source": [
    "#print all unique values in the category column\n",
    "df['category'].unique()"
   ]
  },
  {
   "cell_type": "code",
   "execution_count": 20,
   "metadata": {},
   "outputs": [
    {
     "data": {
      "text/html": [
       "<div>\n",
       "<style scoped>\n",
       "    .dataframe tbody tr th:only-of-type {\n",
       "        vertical-align: middle;\n",
       "    }\n",
       "\n",
       "    .dataframe tbody tr th {\n",
       "        vertical-align: top;\n",
       "    }\n",
       "\n",
       "    .dataframe thead th {\n",
       "        text-align: right;\n",
       "    }\n",
       "</style>\n",
       "<table border=\"1\" class=\"dataframe\">\n",
       "  <thead>\n",
       "    <tr style=\"text-align: right;\">\n",
       "      <th></th>\n",
       "      <th>Unnamed: 0</th>\n",
       "      <th>product_id</th>\n",
       "      <th>name</th>\n",
       "      <th>price</th>\n",
       "      <th>link</th>\n",
       "      <th>category</th>\n",
       "      <th>price_amount</th>\n",
       "      <th>unit</th>\n",
       "      <th>main_category</th>\n",
       "      <th>outer_category</th>\n",
       "    </tr>\n",
       "  </thead>\n",
       "  <tbody>\n",
       "    <tr>\n",
       "      <th>0</th>\n",
       "      <td>0</td>\n",
       "      <td>18381</td>\n",
       "      <td>Bananer</td>\n",
       "      <td>2,75/Stk.</td>\n",
       "      <td>/produkt/bananer/18381/</td>\n",
       "      <td>frugt-og-groent</td>\n",
       "      <td>2.75</td>\n",
       "      <td>Stk.</td>\n",
       "      <td>Foods</td>\n",
       "      <td>Foods</td>\n",
       "    </tr>\n",
       "    <tr>\n",
       "      <th>1</th>\n",
       "      <td>1</td>\n",
       "      <td>51061</td>\n",
       "      <td>Peberfrugter røde</td>\n",
       "      <td>7,25/Stk.</td>\n",
       "      <td>/produkt/peberfrugter-roede/51061/</td>\n",
       "      <td>frugt-og-groent</td>\n",
       "      <td>7.25</td>\n",
       "      <td>Stk.</td>\n",
       "      <td>Foods</td>\n",
       "      <td>Foods</td>\n",
       "    </tr>\n",
       "    <tr>\n",
       "      <th>2</th>\n",
       "      <td>2</td>\n",
       "      <td>61090</td>\n",
       "      <td>Agurk øko</td>\n",
       "      <td>9,00/Stk.</td>\n",
       "      <td>/produkt/salling-oeko-agurk-oeko/61090/</td>\n",
       "      <td>frugt-og-groent</td>\n",
       "      <td>9.00</td>\n",
       "      <td>Stk.</td>\n",
       "      <td>Foods</td>\n",
       "      <td>Foods</td>\n",
       "    </tr>\n",
       "    <tr>\n",
       "      <th>3</th>\n",
       "      <td>3</td>\n",
       "      <td>72008</td>\n",
       "      <td>Bananer 4 pak øko</td>\n",
       "      <td>2,20/Stk.</td>\n",
       "      <td>/produkt/bananer-4-pak-oeko/72008/</td>\n",
       "      <td>frugt-og-groent</td>\n",
       "      <td>2.20</td>\n",
       "      <td>Stk.</td>\n",
       "      <td>Foods</td>\n",
       "      <td>Foods</td>\n",
       "    </tr>\n",
       "    <tr>\n",
       "      <th>4</th>\n",
       "      <td>4</td>\n",
       "      <td>18323</td>\n",
       "      <td>Gulerødder</td>\n",
       "      <td>10,00/Kg.</td>\n",
       "      <td>/produkt/salling-guleroedder/18323/</td>\n",
       "      <td>frugt-og-groent</td>\n",
       "      <td>10.00</td>\n",
       "      <td>Kg.</td>\n",
       "      <td>Foods</td>\n",
       "      <td>Foods</td>\n",
       "    </tr>\n",
       "  </tbody>\n",
       "</table>\n",
       "</div>"
      ],
      "text/plain": [
       "   Unnamed: 0  product_id               name      price  \\\n",
       "0           0       18381            Bananer  2,75/Stk.   \n",
       "1           1       51061  Peberfrugter røde  7,25/Stk.   \n",
       "2           2       61090          Agurk øko  9,00/Stk.   \n",
       "3           3       72008  Bananer 4 pak øko  2,20/Stk.   \n",
       "4           4       18323         Gulerødder  10,00/Kg.   \n",
       "\n",
       "                                      link         category  price_amount  \\\n",
       "0                  /produkt/bananer/18381/  frugt-og-groent          2.75   \n",
       "1       /produkt/peberfrugter-roede/51061/  frugt-og-groent          7.25   \n",
       "2  /produkt/salling-oeko-agurk-oeko/61090/  frugt-og-groent          9.00   \n",
       "3       /produkt/bananer-4-pak-oeko/72008/  frugt-og-groent          2.20   \n",
       "4      /produkt/salling-guleroedder/18323/  frugt-og-groent         10.00   \n",
       "\n",
       "   unit main_category outer_category  \n",
       "0  Stk.         Foods          Foods  \n",
       "1  Stk.         Foods          Foods  \n",
       "2  Stk.         Foods          Foods  \n",
       "3  Stk.         Foods          Foods  \n",
       "4   Kg.         Foods          Foods  "
      ]
     },
     "execution_count": 20,
     "metadata": {},
     "output_type": "execute_result"
    }
   ],
   "source": [
    "\n",
    "foods = ['frugt-og-groent', 'koed-og-fisk', 'mejeri-og-koel', 'drikkevarer', 'broed-og-kager','kolonial', 'slik-og-snacks', 'frost']\n",
    "house = ['husholdning', 'personlig-pleje', 'baby-og-boern', 'bolig-og-koekken', 'fritid-og-sport', 'toej-og-sko', 'have', 'leg', 'byggemarked']\n",
    "other = ['kiosk', 'dyremad','elektronik','biludstyr']\n",
    "\n",
    "# Create a custom color palette\n",
    "colors = {\n",
    "    'Foods': 'blue',\n",
    "    'House': 'green',\n",
    "    'Other': 'orange'\n",
    "}\n",
    "\n",
    "# Map categories to main groups\n",
    "df['outer_category'] = df['category'].map(lambda x: 'Foods' if x in foods else ('House' if x in house else 'Other'))\n",
    "\n",
    "df.head()\n"
   ]
  },
  {
   "cell_type": "code",
   "execution_count": 21,
   "metadata": {},
   "outputs": [
    {
     "data": {
      "text/plain": [
       "outer_category\n",
       "House    19163\n",
       "Foods    10269\n",
       "Other     2853\n",
       "Name: count, dtype: int64"
      ]
     },
     "execution_count": 21,
     "metadata": {},
     "output_type": "execute_result"
    }
   ],
   "source": [
    "#count the amount of products in each main category\n",
    "df['outer_category'].value_counts()"
   ]
  },
  {
   "cell_type": "code",
   "execution_count": 19,
   "metadata": {},
   "outputs": [
    {
     "data": {
      "image/png": "[encoded data removed]",
      "text/plain": [
       "<Figure size 1000x600 with 1 Axes>"
      ]
     },
     "metadata": {},
     "output_type": "display_data"
    }
   ],
   "source": [
    "# Plot the count of products in each category with custom colors\n",
    "plt.figure(figsize=(10, 6))\n",
    "sns.countplot(y='category', data=df, order=df['category'].value_counts().index, palette=df['main_category'].map(colors))\n",
    "plt.title('Number of products in each category')\n",
    "plt.xlabel('Number of products')\n",
    "plt.ylabel('Category')\n",
    "plt.show()"
   ]
  }
 ],
 "metadata": {
  "kernelspec": {
   "display_name": "comsocsci2024",
   "language": "python",
   "name": "python3"
  },
  "language_info": {
   "codemirror_mode": {
    "name": "ipython",
    "version": 3
   },
   "file_extension": ".py",
   "mimetype": "text/x-python",
   "name": "python",
   "nbconvert_exporter": "python",
   "pygments_lexer": "ipython3",
   "version": "3.10.13"
  }
 },
 "nbformat": 4,
 "nbformat_minor": 2
}
